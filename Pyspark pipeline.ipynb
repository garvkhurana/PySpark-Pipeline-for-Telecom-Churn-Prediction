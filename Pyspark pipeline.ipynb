{
  "nbformat": 4,
  "nbformat_minor": 0,
  "metadata": {
    "colab": {
      "provenance": []
    },
    "kernelspec": {
      "name": "python3",
      "display_name": "Python 3"
    },
    "language_info": {
      "name": "python"
    }
  },
  "cells": [
    {
      "cell_type": "code",
      "execution_count": 1,
      "metadata": {
        "colab": {
          "base_uri": "https://localhost:8080/"
        },
        "id": "TDQnM1pwzxoA",
        "outputId": "3c1544da-13d6-4a68-bc44-2616c0a83fb7"
      },
      "outputs": [
        {
          "output_type": "stream",
          "name": "stdout",
          "text": [
            "Collecting pyspark\n",
            "  Downloading pyspark-3.5.1.tar.gz (317.0 MB)\n",
            "\u001b[2K     \u001b[90m━━━━━━━━━━━━━━━━━━━━━━━━━━━━━━━━━━━━━━━━\u001b[0m \u001b[32m317.0/317.0 MB\u001b[0m \u001b[31m3.0 MB/s\u001b[0m eta \u001b[36m0:00:00\u001b[0m\n",
            "\u001b[?25h  Preparing metadata (setup.py) ... \u001b[?25l\u001b[?25hdone\n",
            "Requirement already satisfied: py4j==0.10.9.7 in /usr/local/lib/python3.10/dist-packages (from pyspark) (0.10.9.7)\n",
            "Building wheels for collected packages: pyspark\n",
            "  Building wheel for pyspark (setup.py) ... \u001b[?25l\u001b[?25hdone\n",
            "  Created wheel for pyspark: filename=pyspark-3.5.1-py2.py3-none-any.whl size=317488491 sha256=9042c858779c709c2c33d66f562bf787751c97fee2bad5158375132eb90c216e\n",
            "  Stored in directory: /root/.cache/pip/wheels/80/1d/60/2c256ed38dddce2fdd93be545214a63e02fbd8d74fb0b7f3a6\n",
            "Successfully built pyspark\n",
            "Installing collected packages: pyspark\n",
            "Successfully installed pyspark-3.5.1\n"
          ]
        }
      ],
      "source": [
        "pip install pyspark"
      ]
    },
    {
      "cell_type": "code",
      "source": [
        "from pyspark.sql import SparkSession\n",
        "spark=SparkSession.builder.appName(\"pyspark\").getOrCreate()\n",
        "print(spark)"
      ],
      "metadata": {
        "colab": {
          "base_uri": "https://localhost:8080/"
        },
        "id": "JXqtIz7N0Dwc",
        "outputId": "fe465683-ee0b-4956-f847-9f7179b5b0f6"
      },
      "execution_count": 3,
      "outputs": [
        {
          "output_type": "stream",
          "name": "stdout",
          "text": [
            "<pyspark.sql.session.SparkSession object at 0x7ec8e6302f50>\n"
          ]
        }
      ]
    },
    {
      "cell_type": "code",
      "source": [
        "df=spark.read.csv(\"/content/WA_Fn-UseC_-Telco-Customer-Churn.csv\",header=True,inferSchema=True)"
      ],
      "metadata": {
        "id": "GHI4ScG30Xj4"
      },
      "execution_count": 4,
      "outputs": []
    },
    {
      "cell_type": "code",
      "source": [
        "df.show()"
      ],
      "metadata": {
        "colab": {
          "base_uri": "https://localhost:8080/"
        },
        "id": "2LVTK-E50r-L",
        "outputId": "d6ead1e0-9c18-4640-e7d2-f00e3208f125"
      },
      "execution_count": 5,
      "outputs": [
        {
          "output_type": "stream",
          "name": "stdout",
          "text": [
            "+----------+------+-------------+-------+----------+------+------------+----------------+---------------+-------------------+-------------------+-------------------+-------------------+-------------------+-------------------+--------------+----------------+--------------------+--------------+------------+-----+\n",
            "|customerID|gender|SeniorCitizen|Partner|Dependents|tenure|PhoneService|   MultipleLines|InternetService|     OnlineSecurity|       OnlineBackup|   DeviceProtection|        TechSupport|        StreamingTV|    StreamingMovies|      Contract|PaperlessBilling|       PaymentMethod|MonthlyCharges|TotalCharges|Churn|\n",
            "+----------+------+-------------+-------+----------+------+------------+----------------+---------------+-------------------+-------------------+-------------------+-------------------+-------------------+-------------------+--------------+----------------+--------------------+--------------+------------+-----+\n",
            "|7590-VHVEG|Female|            0|    Yes|        No|     1|          No|No phone service|            DSL|                 No|                Yes|                 No|                 No|                 No|                 No|Month-to-month|             Yes|    Electronic check|         29.85|       29.85|   No|\n",
            "|5575-GNVDE|  Male|            0|     No|        No|    34|         Yes|              No|            DSL|                Yes|                 No|                Yes|                 No|                 No|                 No|      One year|              No|        Mailed check|         56.95|      1889.5|   No|\n",
            "|3668-QPYBK|  Male|            0|     No|        No|     2|         Yes|              No|            DSL|                Yes|                Yes|                 No|                 No|                 No|                 No|Month-to-month|             Yes|        Mailed check|         53.85|      108.15|  Yes|\n",
            "|7795-CFOCW|  Male|            0|     No|        No|    45|          No|No phone service|            DSL|                Yes|                 No|                Yes|                Yes|                 No|                 No|      One year|              No|Bank transfer (au...|          42.3|     1840.75|   No|\n",
            "|9237-HQITU|Female|            0|     No|        No|     2|         Yes|              No|    Fiber optic|                 No|                 No|                 No|                 No|                 No|                 No|Month-to-month|             Yes|    Electronic check|          70.7|      151.65|  Yes|\n",
            "|9305-CDSKC|Female|            0|     No|        No|     8|         Yes|             Yes|    Fiber optic|                 No|                 No|                Yes|                 No|                Yes|                Yes|Month-to-month|             Yes|    Electronic check|         99.65|       820.5|  Yes|\n",
            "|1452-KIOVK|  Male|            0|     No|       Yes|    22|         Yes|             Yes|    Fiber optic|                 No|                Yes|                 No|                 No|                Yes|                 No|Month-to-month|             Yes|Credit card (auto...|          89.1|      1949.4|   No|\n",
            "|6713-OKOMC|Female|            0|     No|        No|    10|          No|No phone service|            DSL|                Yes|                 No|                 No|                 No|                 No|                 No|Month-to-month|              No|        Mailed check|         29.75|       301.9|   No|\n",
            "|7892-POOKP|Female|            0|    Yes|        No|    28|         Yes|             Yes|    Fiber optic|                 No|                 No|                Yes|                Yes|                Yes|                Yes|Month-to-month|             Yes|    Electronic check|         104.8|     3046.05|  Yes|\n",
            "|6388-TABGU|  Male|            0|     No|       Yes|    62|         Yes|              No|            DSL|                Yes|                Yes|                 No|                 No|                 No|                 No|      One year|              No|Bank transfer (au...|         56.15|     3487.95|   No|\n",
            "|9763-GRSKD|  Male|            0|    Yes|       Yes|    13|         Yes|              No|            DSL|                Yes|                 No|                 No|                 No|                 No|                 No|Month-to-month|             Yes|        Mailed check|         49.95|      587.45|   No|\n",
            "|7469-LKBCI|  Male|            0|     No|        No|    16|         Yes|              No|             No|No internet service|No internet service|No internet service|No internet service|No internet service|No internet service|      Two year|              No|Credit card (auto...|         18.95|       326.8|   No|\n",
            "|8091-TTVAX|  Male|            0|    Yes|        No|    58|         Yes|             Yes|    Fiber optic|                 No|                 No|                Yes|                 No|                Yes|                Yes|      One year|              No|Credit card (auto...|        100.35|      5681.1|   No|\n",
            "|0280-XJGEX|  Male|            0|     No|        No|    49|         Yes|             Yes|    Fiber optic|                 No|                Yes|                Yes|                 No|                Yes|                Yes|Month-to-month|             Yes|Bank transfer (au...|         103.7|      5036.3|  Yes|\n",
            "|5129-JLPIS|  Male|            0|     No|        No|    25|         Yes|              No|    Fiber optic|                Yes|                 No|                Yes|                Yes|                Yes|                Yes|Month-to-month|             Yes|    Electronic check|         105.5|     2686.05|   No|\n",
            "|3655-SNQYZ|Female|            0|    Yes|       Yes|    69|         Yes|             Yes|    Fiber optic|                Yes|                Yes|                Yes|                Yes|                Yes|                Yes|      Two year|              No|Credit card (auto...|        113.25|     7895.15|   No|\n",
            "|8191-XWSZG|Female|            0|     No|        No|    52|         Yes|              No|             No|No internet service|No internet service|No internet service|No internet service|No internet service|No internet service|      One year|              No|        Mailed check|         20.65|     1022.95|   No|\n",
            "|9959-WOFKT|  Male|            0|     No|       Yes|    71|         Yes|             Yes|    Fiber optic|                Yes|                 No|                Yes|                 No|                Yes|                Yes|      Two year|              No|Bank transfer (au...|         106.7|     7382.25|   No|\n",
            "|4190-MFLUW|Female|            0|    Yes|       Yes|    10|         Yes|              No|            DSL|                 No|                 No|                Yes|                Yes|                 No|                 No|Month-to-month|              No|Credit card (auto...|          55.2|      528.35|  Yes|\n",
            "|4183-MYFRB|Female|            0|     No|        No|    21|         Yes|              No|    Fiber optic|                 No|                Yes|                Yes|                 No|                 No|                Yes|Month-to-month|             Yes|    Electronic check|         90.05|      1862.9|   No|\n",
            "+----------+------+-------------+-------+----------+------+------------+----------------+---------------+-------------------+-------------------+-------------------+-------------------+-------------------+-------------------+--------------+----------------+--------------------+--------------+------------+-----+\n",
            "only showing top 20 rows\n",
            "\n"
          ]
        }
      ]
    },
    {
      "cell_type": "code",
      "source": [
        "df=df.drop(\"customerID\")"
      ],
      "metadata": {
        "id": "s67lDKfs0tT0"
      },
      "execution_count": 7,
      "outputs": []
    },
    {
      "cell_type": "code",
      "source": [
        "df.show()"
      ],
      "metadata": {
        "colab": {
          "base_uri": "https://localhost:8080/"
        },
        "id": "cd8zpvqn0uP1",
        "outputId": "28313656-8fde-44bd-a16f-d30566630bbb"
      },
      "execution_count": 8,
      "outputs": [
        {
          "output_type": "stream",
          "name": "stdout",
          "text": [
            "+------+-------------+-------+----------+------+------------+----------------+---------------+-------------------+-------------------+-------------------+-------------------+-------------------+-------------------+--------------+----------------+--------------------+--------------+------------+-----+\n",
            "|gender|SeniorCitizen|Partner|Dependents|tenure|PhoneService|   MultipleLines|InternetService|     OnlineSecurity|       OnlineBackup|   DeviceProtection|        TechSupport|        StreamingTV|    StreamingMovies|      Contract|PaperlessBilling|       PaymentMethod|MonthlyCharges|TotalCharges|Churn|\n",
            "+------+-------------+-------+----------+------+------------+----------------+---------------+-------------------+-------------------+-------------------+-------------------+-------------------+-------------------+--------------+----------------+--------------------+--------------+------------+-----+\n",
            "|Female|            0|    Yes|        No|     1|          No|No phone service|            DSL|                 No|                Yes|                 No|                 No|                 No|                 No|Month-to-month|             Yes|    Electronic check|         29.85|       29.85|   No|\n",
            "|  Male|            0|     No|        No|    34|         Yes|              No|            DSL|                Yes|                 No|                Yes|                 No|                 No|                 No|      One year|              No|        Mailed check|         56.95|      1889.5|   No|\n",
            "|  Male|            0|     No|        No|     2|         Yes|              No|            DSL|                Yes|                Yes|                 No|                 No|                 No|                 No|Month-to-month|             Yes|        Mailed check|         53.85|      108.15|  Yes|\n",
            "|  Male|            0|     No|        No|    45|          No|No phone service|            DSL|                Yes|                 No|                Yes|                Yes|                 No|                 No|      One year|              No|Bank transfer (au...|          42.3|     1840.75|   No|\n",
            "|Female|            0|     No|        No|     2|         Yes|              No|    Fiber optic|                 No|                 No|                 No|                 No|                 No|                 No|Month-to-month|             Yes|    Electronic check|          70.7|      151.65|  Yes|\n",
            "|Female|            0|     No|        No|     8|         Yes|             Yes|    Fiber optic|                 No|                 No|                Yes|                 No|                Yes|                Yes|Month-to-month|             Yes|    Electronic check|         99.65|       820.5|  Yes|\n",
            "|  Male|            0|     No|       Yes|    22|         Yes|             Yes|    Fiber optic|                 No|                Yes|                 No|                 No|                Yes|                 No|Month-to-month|             Yes|Credit card (auto...|          89.1|      1949.4|   No|\n",
            "|Female|            0|     No|        No|    10|          No|No phone service|            DSL|                Yes|                 No|                 No|                 No|                 No|                 No|Month-to-month|              No|        Mailed check|         29.75|       301.9|   No|\n",
            "|Female|            0|    Yes|        No|    28|         Yes|             Yes|    Fiber optic|                 No|                 No|                Yes|                Yes|                Yes|                Yes|Month-to-month|             Yes|    Electronic check|         104.8|     3046.05|  Yes|\n",
            "|  Male|            0|     No|       Yes|    62|         Yes|              No|            DSL|                Yes|                Yes|                 No|                 No|                 No|                 No|      One year|              No|Bank transfer (au...|         56.15|     3487.95|   No|\n",
            "|  Male|            0|    Yes|       Yes|    13|         Yes|              No|            DSL|                Yes|                 No|                 No|                 No|                 No|                 No|Month-to-month|             Yes|        Mailed check|         49.95|      587.45|   No|\n",
            "|  Male|            0|     No|        No|    16|         Yes|              No|             No|No internet service|No internet service|No internet service|No internet service|No internet service|No internet service|      Two year|              No|Credit card (auto...|         18.95|       326.8|   No|\n",
            "|  Male|            0|    Yes|        No|    58|         Yes|             Yes|    Fiber optic|                 No|                 No|                Yes|                 No|                Yes|                Yes|      One year|              No|Credit card (auto...|        100.35|      5681.1|   No|\n",
            "|  Male|            0|     No|        No|    49|         Yes|             Yes|    Fiber optic|                 No|                Yes|                Yes|                 No|                Yes|                Yes|Month-to-month|             Yes|Bank transfer (au...|         103.7|      5036.3|  Yes|\n",
            "|  Male|            0|     No|        No|    25|         Yes|              No|    Fiber optic|                Yes|                 No|                Yes|                Yes|                Yes|                Yes|Month-to-month|             Yes|    Electronic check|         105.5|     2686.05|   No|\n",
            "|Female|            0|    Yes|       Yes|    69|         Yes|             Yes|    Fiber optic|                Yes|                Yes|                Yes|                Yes|                Yes|                Yes|      Two year|              No|Credit card (auto...|        113.25|     7895.15|   No|\n",
            "|Female|            0|     No|        No|    52|         Yes|              No|             No|No internet service|No internet service|No internet service|No internet service|No internet service|No internet service|      One year|              No|        Mailed check|         20.65|     1022.95|   No|\n",
            "|  Male|            0|     No|       Yes|    71|         Yes|             Yes|    Fiber optic|                Yes|                 No|                Yes|                 No|                Yes|                Yes|      Two year|              No|Bank transfer (au...|         106.7|     7382.25|   No|\n",
            "|Female|            0|    Yes|       Yes|    10|         Yes|              No|            DSL|                 No|                 No|                Yes|                Yes|                 No|                 No|Month-to-month|              No|Credit card (auto...|          55.2|      528.35|  Yes|\n",
            "|Female|            0|     No|        No|    21|         Yes|              No|    Fiber optic|                 No|                Yes|                Yes|                 No|                 No|                Yes|Month-to-month|             Yes|    Electronic check|         90.05|      1862.9|   No|\n",
            "+------+-------------+-------+----------+------+------------+----------------+---------------+-------------------+-------------------+-------------------+-------------------+-------------------+-------------------+--------------+----------------+--------------------+--------------+------------+-----+\n",
            "only showing top 20 rows\n",
            "\n"
          ]
        }
      ]
    },
    {
      "cell_type": "code",
      "source": [
        "from pyspark.ml.feature import StringIndexer\n",
        "from pyspark.ml.feature import VectorAssembler"
      ],
      "metadata": {
        "id": "cCnNmrUY0uSK"
      },
      "execution_count": 40,
      "outputs": []
    },
    {
      "cell_type": "code",
      "source": [
        "inputCols=[\"gender\",\"Partner\",\"Dependents\",\"PhoneService\",\"MultipleLines\",\"InternetService\",\"OnlineSecurity\",\"OnlineBackup\",\"DeviceProtection\",\"TechSupport\",\"StreamingTV\",\"StreamingMovies\",\"Contract\",\"PaperlessBilling\",\"PaymentMethod\",\"Churn\"]\n",
        "outputcols=[\"gender1\",\"Partner1\",\"Dependents1\",\"PhoneService1\",\"MultipleLines1\",\"InternetService1\",\"OnlineSecurity1\",\"OnlineBackup1\",\"DeviceProtection1\",\"TechSupport1\",\"StreamingTV1\",\"StreamingMovies1\",\"Contract1\",\"PaperlessBilling1\",\"PaymentMethod1\",\"Churn1\"]\n",
        "si=StringIndexer(inputCols=inputCols,outputCols=outputcols)"
      ],
      "metadata": {
        "id": "71F8p2ui0uUe"
      },
      "execution_count": 49,
      "outputs": []
    },
    {
      "cell_type": "code",
      "source": [
        "va=VectorAssembler(inputCols=outputcols,outputCol=\"features\")"
      ],
      "metadata": {
        "id": "YsRVasi25koc"
      },
      "execution_count": 50,
      "outputs": []
    },
    {
      "cell_type": "code",
      "source": [
        "df.show()"
      ],
      "metadata": {
        "colab": {
          "base_uri": "https://localhost:8080/"
        },
        "id": "wihbb0Gg5Chv",
        "outputId": "2286ea81-76fb-4b78-93fa-fa07f111ab01"
      },
      "execution_count": 51,
      "outputs": [
        {
          "output_type": "stream",
          "name": "stdout",
          "text": [
            "+------+-------------+-------+----------+------+------------+----------------+---------------+-------------------+-------------------+-------------------+-------------------+-------------------+-------------------+--------------+----------------+--------------------+--------------+------------+-----+\n",
            "|gender|SeniorCitizen|Partner|Dependents|tenure|PhoneService|   MultipleLines|InternetService|     OnlineSecurity|       OnlineBackup|   DeviceProtection|        TechSupport|        StreamingTV|    StreamingMovies|      Contract|PaperlessBilling|       PaymentMethod|MonthlyCharges|TotalCharges|Churn|\n",
            "+------+-------------+-------+----------+------+------------+----------------+---------------+-------------------+-------------------+-------------------+-------------------+-------------------+-------------------+--------------+----------------+--------------------+--------------+------------+-----+\n",
            "|Female|            0|    Yes|        No|     1|          No|No phone service|            DSL|                 No|                Yes|                 No|                 No|                 No|                 No|Month-to-month|             Yes|    Electronic check|         29.85|       29.85|   No|\n",
            "|  Male|            0|     No|        No|    34|         Yes|              No|            DSL|                Yes|                 No|                Yes|                 No|                 No|                 No|      One year|              No|        Mailed check|         56.95|      1889.5|   No|\n",
            "|  Male|            0|     No|        No|     2|         Yes|              No|            DSL|                Yes|                Yes|                 No|                 No|                 No|                 No|Month-to-month|             Yes|        Mailed check|         53.85|      108.15|  Yes|\n",
            "|  Male|            0|     No|        No|    45|          No|No phone service|            DSL|                Yes|                 No|                Yes|                Yes|                 No|                 No|      One year|              No|Bank transfer (au...|          42.3|     1840.75|   No|\n",
            "|Female|            0|     No|        No|     2|         Yes|              No|    Fiber optic|                 No|                 No|                 No|                 No|                 No|                 No|Month-to-month|             Yes|    Electronic check|          70.7|      151.65|  Yes|\n",
            "|Female|            0|     No|        No|     8|         Yes|             Yes|    Fiber optic|                 No|                 No|                Yes|                 No|                Yes|                Yes|Month-to-month|             Yes|    Electronic check|         99.65|       820.5|  Yes|\n",
            "|  Male|            0|     No|       Yes|    22|         Yes|             Yes|    Fiber optic|                 No|                Yes|                 No|                 No|                Yes|                 No|Month-to-month|             Yes|Credit card (auto...|          89.1|      1949.4|   No|\n",
            "|Female|            0|     No|        No|    10|          No|No phone service|            DSL|                Yes|                 No|                 No|                 No|                 No|                 No|Month-to-month|              No|        Mailed check|         29.75|       301.9|   No|\n",
            "|Female|            0|    Yes|        No|    28|         Yes|             Yes|    Fiber optic|                 No|                 No|                Yes|                Yes|                Yes|                Yes|Month-to-month|             Yes|    Electronic check|         104.8|     3046.05|  Yes|\n",
            "|  Male|            0|     No|       Yes|    62|         Yes|              No|            DSL|                Yes|                Yes|                 No|                 No|                 No|                 No|      One year|              No|Bank transfer (au...|         56.15|     3487.95|   No|\n",
            "|  Male|            0|    Yes|       Yes|    13|         Yes|              No|            DSL|                Yes|                 No|                 No|                 No|                 No|                 No|Month-to-month|             Yes|        Mailed check|         49.95|      587.45|   No|\n",
            "|  Male|            0|     No|        No|    16|         Yes|              No|             No|No internet service|No internet service|No internet service|No internet service|No internet service|No internet service|      Two year|              No|Credit card (auto...|         18.95|       326.8|   No|\n",
            "|  Male|            0|    Yes|        No|    58|         Yes|             Yes|    Fiber optic|                 No|                 No|                Yes|                 No|                Yes|                Yes|      One year|              No|Credit card (auto...|        100.35|      5681.1|   No|\n",
            "|  Male|            0|     No|        No|    49|         Yes|             Yes|    Fiber optic|                 No|                Yes|                Yes|                 No|                Yes|                Yes|Month-to-month|             Yes|Bank transfer (au...|         103.7|      5036.3|  Yes|\n",
            "|  Male|            0|     No|        No|    25|         Yes|              No|    Fiber optic|                Yes|                 No|                Yes|                Yes|                Yes|                Yes|Month-to-month|             Yes|    Electronic check|         105.5|     2686.05|   No|\n",
            "|Female|            0|    Yes|       Yes|    69|         Yes|             Yes|    Fiber optic|                Yes|                Yes|                Yes|                Yes|                Yes|                Yes|      Two year|              No|Credit card (auto...|        113.25|     7895.15|   No|\n",
            "|Female|            0|     No|        No|    52|         Yes|              No|             No|No internet service|No internet service|No internet service|No internet service|No internet service|No internet service|      One year|              No|        Mailed check|         20.65|     1022.95|   No|\n",
            "|  Male|            0|     No|       Yes|    71|         Yes|             Yes|    Fiber optic|                Yes|                 No|                Yes|                 No|                Yes|                Yes|      Two year|              No|Bank transfer (au...|         106.7|     7382.25|   No|\n",
            "|Female|            0|    Yes|       Yes|    10|         Yes|              No|            DSL|                 No|                 No|                Yes|                Yes|                 No|                 No|Month-to-month|              No|Credit card (auto...|          55.2|      528.35|  Yes|\n",
            "|Female|            0|     No|        No|    21|         Yes|              No|    Fiber optic|                 No|                Yes|                Yes|                 No|                 No|                Yes|Month-to-month|             Yes|    Electronic check|         90.05|      1862.9|   No|\n",
            "+------+-------------+-------+----------+------+------------+----------------+---------------+-------------------+-------------------+-------------------+-------------------+-------------------+-------------------+--------------+----------------+--------------------+--------------+------------+-----+\n",
            "only showing top 20 rows\n",
            "\n"
          ]
        }
      ]
    },
    {
      "cell_type": "code",
      "source": [
        "from pyspark.ml.classification import LogisticRegression\n",
        "lr=LogisticRegression(featuresCol=\"features\",labelCol=\"Churn1\")"
      ],
      "metadata": {
        "id": "bwLW_CpC593F"
      },
      "execution_count": 57,
      "outputs": []
    },
    {
      "cell_type": "code",
      "source": [
        "from pyspark.ml import Pipeline"
      ],
      "metadata": {
        "id": "9JPHynb30uW_"
      },
      "execution_count": 58,
      "outputs": []
    },
    {
      "cell_type": "code",
      "source": [
        "pipeline=Pipeline(stages=[si,va,lr])"
      ],
      "metadata": {
        "id": "8pUxMhyD0uZT"
      },
      "execution_count": 67,
      "outputs": []
    },
    {
      "cell_type": "code",
      "source": [
        "train_df,test_df=df.randomSplit([0.7,0.3])"
      ],
      "metadata": {
        "id": "52WGM8cW2io2"
      },
      "execution_count": 68,
      "outputs": []
    },
    {
      "cell_type": "code",
      "source": [
        "model = pipeline.fit(train_df)\n",
        "predictions=model.transform(test_df)"
      ],
      "metadata": {
        "id": "P1qh6CuL57zX"
      },
      "execution_count": 71,
      "outputs": []
    },
    {
      "cell_type": "code",
      "source": [
        "predictions.show()"
      ],
      "metadata": {
        "colab": {
          "base_uri": "https://localhost:8080/"
        },
        "id": "DtkIt5OT7qWh",
        "outputId": "5b19138d-fbe8-4f80-eff5-ba6d626bc185"
      },
      "execution_count": 72,
      "outputs": [
        {
          "output_type": "stream",
          "name": "stdout",
          "text": [
            "+------+-------------+-------+----------+------+------------+----------------+---------------+--------------+------------+----------------+-----------+-----------+---------------+--------------+----------------+--------------------+--------------+------------+-----+-------+--------+-----------+-------------+--------------+----------------+---------------+-------------+-----------------+------------+------------+----------------+---------+-----------------+--------------+------+--------------------+--------------------+--------------------+----------+\n",
            "|gender|SeniorCitizen|Partner|Dependents|tenure|PhoneService|   MultipleLines|InternetService|OnlineSecurity|OnlineBackup|DeviceProtection|TechSupport|StreamingTV|StreamingMovies|      Contract|PaperlessBilling|       PaymentMethod|MonthlyCharges|TotalCharges|Churn|gender1|Partner1|Dependents1|PhoneService1|MultipleLines1|InternetService1|OnlineSecurity1|OnlineBackup1|DeviceProtection1|TechSupport1|StreamingTV1|StreamingMovies1|Contract1|PaperlessBilling1|PaymentMethod1|Churn1|            features|       rawPrediction|         probability|prediction|\n",
            "+------+-------------+-------+----------+------+------------+----------------+---------------+--------------+------------+----------------+-----------+-----------+---------------+--------------+----------------+--------------------+--------------+------------+-----+-------+--------+-----------+-------------+--------------+----------------+---------------+-------------+-----------------+------------+------------+----------------+---------+-----------------+--------------+------+--------------------+--------------------+--------------------+----------+\n",
            "|Female|            0|     No|        No|     1|          No|No phone service|            DSL|            No|          No|              No|         No|         No|             No|Month-to-month|              No|Bank transfer (au...|         25.25|       25.25|   No|    1.0|     0.0|        0.0|          1.0|           2.0|             1.0|            0.0|          0.0|              0.0|         0.0|         0.0|             0.0|      0.0|              1.0|           2.0|   0.0|(16,[0,3,4,5,13,1...|[18.7238096301608...|[0.99999999261496...|       0.0|\n",
            "|Female|            0|     No|        No|     1|          No|No phone service|            DSL|            No|          No|              No|         No|         No|             No|Month-to-month|              No|    Electronic check|         25.25|       25.25|   No|    1.0|     0.0|        0.0|          1.0|           2.0|             1.0|            0.0|          0.0|              0.0|         0.0|         0.0|             0.0|      0.0|              1.0|           0.0|   0.0|(16,[0,3,4,5,13],...|[18.5943365036366...|[0.99999999159413...|       0.0|\n",
            "|Female|            0|     No|        No|     1|          No|No phone service|            DSL|            No|          No|              No|         No|         No|             No|Month-to-month|             Yes|        Mailed check|          25.1|        25.1|  Yes|    1.0|     0.0|        0.0|          1.0|           2.0|             1.0|            0.0|          0.0|              0.0|         0.0|         0.0|             0.0|      0.0|              0.0|           1.0|   1.0|(16,[0,3,4,5,14,1...|[-19.878794300238...|[2.32674788335109...|       1.0|\n",
            "|Female|            0|     No|        No|     1|          No|No phone service|            DSL|            No|          No|              No|         No|        Yes|             No|Month-to-month|             Yes|    Electronic check|          34.7|        34.7|  Yes|    1.0|     0.0|        0.0|          1.0|           2.0|             1.0|            0.0|          0.0|              0.0|         0.0|         1.0|             0.0|      0.0|              0.0|           0.0|   1.0|(16,[0,3,4,5,10,1...|[-19.936347430912...|[2.19661689953152...|       1.0|\n",
            "|Female|            0|     No|        No|     1|          No|No phone service|            DSL|            No|          No|             Yes|        Yes|         No|             No|Month-to-month|              No|        Mailed check|          35.9|        35.9|   No|    1.0|     0.0|        0.0|          1.0|           2.0|             1.0|            0.0|          0.0|              1.0|         1.0|         0.0|             0.0|      0.0|              1.0|           1.0|   0.0|(16,[0,3,4,5,8,9,...|[18.9702145925719...|[0.99999999422781...|       0.0|\n",
            "|Female|            0|     No|        No|     1|         Yes|              No|            DSL|            No|          No|              No|         No|         No|             No|Month-to-month|              No|Bank transfer (au...|         44.15|       44.15|   No|    1.0|     0.0|        0.0|          0.0|           0.0|             1.0|            0.0|          0.0|              0.0|         0.0|         0.0|             0.0|      0.0|              1.0|           2.0|   0.0|(16,[0,5,13,14],[...|[18.9119366911654...|[0.99999999388142...|       0.0|\n",
            "|Female|            0|     No|        No|     1|         Yes|              No|            DSL|            No|          No|              No|         No|         No|             No|Month-to-month|              No|        Mailed check|         44.75|       44.75|   No|    1.0|     0.0|        0.0|          0.0|           0.0|             1.0|            0.0|          0.0|              0.0|         0.0|         0.0|             0.0|      0.0|              1.0|           1.0|   0.0|(16,[0,5,13,14],[...|[18.8472001279033...|[0.99999999347222...|       0.0|\n",
            "|Female|            0|     No|        No|     1|         Yes|              No|            DSL|            No|          No|              No|         No|         No|             No|Month-to-month|              No|        Mailed check|         45.15|       45.15|   No|    1.0|     0.0|        0.0|          0.0|           0.0|             1.0|            0.0|          0.0|              0.0|         0.0|         0.0|             0.0|      0.0|              1.0|           1.0|   0.0|(16,[0,5,13,14],[...|[18.8472001279033...|[0.99999999347222...|       0.0|\n",
            "|Female|            0|     No|        No|     1|         Yes|              No|            DSL|            No|          No|              No|         No|         No|             No|Month-to-month|              No|        Mailed check|         45.35|       45.35|   No|    1.0|     0.0|        0.0|          0.0|           0.0|             1.0|            0.0|          0.0|              0.0|         0.0|         0.0|             0.0|      0.0|              1.0|           1.0|   0.0|(16,[0,5,13,14],[...|[18.8472001279033...|[0.99999999347222...|       0.0|\n",
            "|Female|            0|     No|        No|     1|         Yes|              No|            DSL|            No|          No|              No|         No|         No|             No|Month-to-month|             Yes|Bank transfer (au...|          44.9|        44.9|  Yes|    1.0|     0.0|        0.0|          0.0|           0.0|             1.0|            0.0|          0.0|              0.0|         0.0|         0.0|             0.0|      0.0|              0.0|           2.0|   1.0|(16,[0,5,14,15],[...|[-19.625930675971...|[2.99617105348459...|       1.0|\n",
            "|Female|            0|     No|        No|     1|         Yes|              No|            DSL|            No|          No|              No|         No|         No|             No|Month-to-month|             Yes|    Electronic check|          44.1|        44.1|  Yes|    1.0|     0.0|        0.0|          0.0|           0.0|             1.0|            0.0|          0.0|              0.0|         0.0|         0.0|             0.0|      0.0|              0.0|           0.0|   1.0|(16,[0,5,15],[1.0...|[-19.755403802495...|[2.63231064264128...|       1.0|\n",
            "|Female|            0|     No|        No|     1|         Yes|              No|            DSL|            No|          No|              No|         No|         No|             No|Month-to-month|             Yes|    Electronic check|         45.65|       45.65|  Yes|    1.0|     0.0|        0.0|          0.0|           0.0|             1.0|            0.0|          0.0|              0.0|         0.0|         0.0|             0.0|      0.0|              0.0|           0.0|   1.0|(16,[0,5,15],[1.0...|[-19.755403802495...|[2.63231064264128...|       1.0|\n",
            "|Female|            0|     No|        No|     1|         Yes|              No|            DSL|            No|          No|              No|         No|         No|             No|Month-to-month|             Yes|        Mailed check|          45.4|        45.4|   No|    1.0|     0.0|        0.0|          0.0|           0.0|             1.0|            0.0|          0.0|              0.0|         0.0|         0.0|             0.0|      0.0|              0.0|           1.0|   0.0|(16,[0,5,14],[1.0...|[18.7106316543974...|[0.99999999251699...|       0.0|\n",
            "|Female|            0|     No|        No|     1|         Yes|              No|            DSL|            No|          No|              No|         No|        Yes|             No|Month-to-month|             Yes|    Electronic check|         54.65|       54.65|   No|    1.0|     0.0|        0.0|          0.0|           0.0|             1.0|            0.0|          0.0|              0.0|         0.0|         1.0|             0.0|      0.0|              0.0|           0.0|   0.0|(16,[0,5,10],[1.0...|[18.6530785237236...|[0.99999999207369...|       0.0|\n",
            "|Female|            0|     No|        No|     1|         Yes|              No|            DSL|            No|          No|              No|        Yes|         No|             No|Month-to-month|             Yes|    Electronic check|          49.9|        49.9|   No|    1.0|     0.0|        0.0|          0.0|           0.0|             1.0|            0.0|          0.0|              0.0|         1.0|         0.0|             0.0|      0.0|              0.0|           0.0|   0.0|(16,[0,5,9],[1.0,...|[18.8589433660662...|[0.99999999354843...|       0.0|\n",
            "|Female|            0|     No|        No|     1|         Yes|              No|            DSL|            No|         Yes|              No|         No|         No|             No|Month-to-month|             Yes|    Electronic check|          48.6|        48.6|   No|    1.0|     0.0|        0.0|          0.0|           0.0|             1.0|            0.0|          1.0|              0.0|         0.0|         0.0|             0.0|      0.0|              0.0|           0.0|   0.0|(16,[0,5,7],[1.0,...|[18.7727262446150...|[0.99999999296751...|       0.0|\n",
            "|Female|            0|     No|        No|     1|         Yes|              No|            DSL|           Yes|          No|              No|         No|         No|             No|Month-to-month|             Yes|Bank transfer (au...|         48.45|       48.45|   No|    1.0|     0.0|        0.0|          0.0|           0.0|             1.0|            1.0|          0.0|              0.0|         0.0|         0.0|             0.0|      0.0|              0.0|           2.0|   0.0|(16,[0,5,6,14],[1...|[18.9769130479302...|[0.99999999426634...|       0.0|\n",
            "|Female|            0|     No|        No|     1|         Yes|              No|    Fiber optic|            No|          No|              No|         No|         No|             No|Month-to-month|              No|    Electronic check|          70.5|        70.5|  Yes|    1.0|     0.0|        0.0|          0.0|           0.0|             0.0|            0.0|          0.0|              0.0|         0.0|         0.0|             0.0|      0.0|              1.0|           0.0|   1.0|(16,[0,13,15],[1....|[-19.859377722875...|[2.37236681205589...|       1.0|\n",
            "|Female|            0|     No|        No|     1|         Yes|              No|    Fiber optic|            No|          No|              No|         No|         No|             No|Month-to-month|             Yes|    Electronic check|          69.2|        69.2|  Yes|    1.0|     0.0|        0.0|          0.0|           0.0|             0.0|            0.0|          0.0|              0.0|         0.0|         0.0|             0.0|      0.0|              0.0|           0.0|   1.0|(16,[0,15],[1.0,1...|[-19.995946196381...|[2.06952608887995...|       1.0|\n",
            "|Female|            0|     No|        No|     1|         Yes|              No|    Fiber optic|            No|          No|              No|         No|         No|             No|Month-to-month|             Yes|    Electronic check|          69.2|        69.2|  Yes|    1.0|     0.0|        0.0|          0.0|           0.0|             0.0|            0.0|          0.0|              0.0|         0.0|         0.0|             0.0|      0.0|              0.0|           0.0|   1.0|(16,[0,15],[1.0,1...|[-19.995946196381...|[2.06952608887995...|       1.0|\n",
            "+------+-------------+-------+----------+------+------------+----------------+---------------+--------------+------------+----------------+-----------+-----------+---------------+--------------+----------------+--------------------+--------------+------------+-----+-------+--------+-----------+-------------+--------------+----------------+---------------+-------------+-----------------+------------+------------+----------------+---------+-----------------+--------------+------+--------------------+--------------------+--------------------+----------+\n",
            "only showing top 20 rows\n",
            "\n"
          ]
        }
      ]
    },
    {
      "cell_type": "code",
      "source": [],
      "metadata": {
        "id": "hJCez1hu7tiN"
      },
      "execution_count": null,
      "outputs": []
    }
  ]
}